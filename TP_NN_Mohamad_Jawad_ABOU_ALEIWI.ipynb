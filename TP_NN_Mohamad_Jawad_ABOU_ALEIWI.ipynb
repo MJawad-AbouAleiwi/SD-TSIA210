{
  "cells": [
    {
      "cell_type": "markdown",
      "metadata": {
        "id": "EBnaMKtPaRbw"
      },
      "source": [
        "Name: Mohamad Jawad ABOU ALEIWI"
      ]
    },
    {
      "cell_type": "markdown",
      "metadata": {
        "id": "iafPdtuncbq7"
      },
      "source": [
        "# TP: MNIST with Neural Networks (NN)"
      ]
    },
    {
      "cell_type": "code",
      "execution_count": 73,
      "metadata": {
        "colab": {
          "base_uri": "https://localhost:8080/"
        },
        "id": "OlKZ3Hnas7B4",
        "outputId": "aa032709-9152-45e4-a784-b9886afb0c0f"
      },
      "outputs": [
        {
          "name": "stdout",
          "output_type": "stream",
          "text": [
            "Using tensorflow version 2.15.0\n",
            "Using keras version 2.15.0\n"
          ]
        }
      ],
      "source": [
        "import numpy as np\n",
        "import tensorflow as tf\n",
        "import keras\n",
        "print(\"Using tensorflow version \" + str(tf.__version__))\n",
        "print(\"Using keras version \" + str(keras.__version__))"
      ]
    },
    {
      "cell_type": "markdown",
      "metadata": {
        "id": "s_QLz9_jbRZq"
      },
      "source": [
        "## Loading and preparing the MNIST dataset\n",
        "Load the MNIST dataset made available by keras.datasets. Check the size of the training and testing sets.\n",
        "\n",
        "<div class='alert alert-block alert-info'>\n",
        "            Code:</div>"
      ]
    },
    {
      "cell_type": "code",
      "execution_count": 74,
      "metadata": {
        "cellView": "both",
        "colab": {
          "base_uri": "https://localhost:8080/"
        },
        "id": "gG83hGyVmijn",
        "outputId": "321cf393-38c9-4866-e912-1cf855dde59c"
      },
      "outputs": [
        {
          "name": "stdout",
          "output_type": "stream",
          "text": [
            "Training images size:  60000\n",
            "Testing images size:  10000\n"
          ]
        }
      ],
      "source": [
        "# The MNSIT dataset is ready to be imported from Keras into RAM\n",
        "# Warning: you cannot do that for larger databases (e.g., ImageNet)\n",
        "from keras.datasets import mnist\n",
        "(train_images, train_labels), (test_images, test_labels) = mnist.load_data()\n",
        "\n",
        "print(\"Training images size: \", len(train_images))\n",
        "print(\"Testing images size: \", len(test_images))\n"
      ]
    },
    {
      "cell_type": "markdown",
      "metadata": {
        "id": "gRPbU_Z4U6Ac"
      },
      "source": [
        "The MNIST database contains 60,000 training images and 10,000 testing images.\n",
        "Using the pyplot package, visualize the first sample of the training set:\n",
        "\n",
        "<div class='alert alert-block alert-info'>\n",
        "            Code:</div>"
      ]
    },
    {
      "cell_type": "code",
      "execution_count": 75,
      "metadata": {
        "colab": {
          "base_uri": "https://localhost:8080/",
          "height": 428
        },
        "id": "x5VAu7oW0Zu4",
        "outputId": "1f72453a-94cf-4d57-9eb2-98d120fbc233"
      },
      "outputs": [
        {
          "data": {
            "image/png": "[encoded data removed]",
            "text/plain": [
              "<Figure size 640x480 with 1 Axes>"
            ]
          },
          "metadata": {},
          "output_type": "display_data"
        }
      ],
      "source": [
        "# Let us visualize the first training sample using the Matplotlib library with the imshow function\n",
        "from matplotlib import pyplot as plt\n",
        "\n",
        "plt.imshow(train_images[0], cmap='gray')\n",
        "plt.title(f'Label: {train_labels[0]}')\n",
        "# turn off axis\n",
        "plt.axis('off')\n",
        "plt.show()\n"
      ]
    },
    {
      "cell_type": "markdown",
      "metadata": {
        "id": "s7YsRekMVDg-"
      },
      "source": [
        "The database contains images of handwritten digits. Hence, they belong to one of 10 categories, depending on the digit they represent.\n",
        "Reminder: in order to do multi-class classification, we use the softmax function, which outputs a multinomial probability distribution. That means that the output to our model will be a vector of size $10$, containing probabilities (meaning that the elements of the vector will be positive sum to $1$).\n",
        "For easy computation, we want to true labels to be represented with the same format: that is what we call **one-hot encoding**. For example, if an image $\\mathbf{x}$ represents the digit $5$, we have the corresponding one_hot label (careful, $0$ will be the first digit):\n",
        "$$ \\mathbf{y} = [0, 0, 0, 0, 0, 1, 0, 0, 0, 0] $$\n",
        "Here, you need to turn train and test labels to one-hot encoding using the following function:\n",
        "\n",
        "<div class='alert alert-block alert-info'>\n",
        "            Code:</div>"
      ]
    },
    {
      "cell_type": "code",
      "execution_count": 76,
      "metadata": {
        "id": "lQbkllF8mnaf"
      },
      "outputs": [],
      "source": [
        "from keras.utils import to_categorical\n",
        "\n",
        "# convert train and test labels to one-hot encoding\n",
        "y_train = to_categorical(train_labels, num_classes=10)\n",
        "y_test = to_categorical(test_labels, num_classes=10)"
      ]
    },
    {
      "cell_type": "markdown",
      "metadata": {
        "id": "0jv29YLtVO3q"
      },
      "source": [
        "Images are black and white, with size $28 \\times 28$. We will work with them using a simple linear classification model, meaning that we will have them as vectors of size $(784)$.\n",
        "You should then transform the images to the size $(784)$ using the numpy function ```reshape```.\n",
        "\n",
        "Then, after casting the pixels to floats, normalize the images so that they have zero-mean and unitary deviation. Be careful to your methodology: while you have access to training data, you may not have access to testing data, and must avoid using any statistic on the testing dataset.\n",
        "\n",
        "<div class='alert alert-block alert-info'>\n",
        "            Code:</div>"
      ]
    },
    {
      "cell_type": "markdown",
      "metadata": {
        "id": "95ypXrxVdPW1"
      },
      "source": [
        "Using the parameters calculated from the training set for normalization of the testing set ensures that the model is trained and evaluated in a fair and consistent manner, avoiding data leakage and enabling reliable generalization to unseen data."
      ]
    },
    {
      "cell_type": "code",
      "execution_count": 77,
      "metadata": {
        "id": "ptTRSDo5nJyZ"
      },
      "outputs": [],
      "source": [
        "from sklearn.preprocessing import StandardScaler\n",
        "\n",
        "# Reshape images to vectors of pixels\n",
        "img_rows, img_cols = train_images.shape[1], train_images.shape[2]\n",
        "\n",
        "X_train = train_images.reshape(train_images.shape[0] ,img_rows*img_cols)\n",
        "X_test = test_images.reshape(test_images.shape[0] ,img_rows*img_cols)\n",
        "\n",
        "# Cast pixels from uint8 to float32\n",
        "X_train = X_train.astype('float32')\n",
        "X_test = X_test.astype('float32')\n",
        "\n",
        "# Now let us normalize the images so that they have zero mean and standard deviation\n",
        "# Hint: are real testing data statistics known at training time ?\n",
        "\n",
        "# calculate mean and standard deviation only from the training data\n",
        "mean = np.mean(X_train, axis=0)\n",
        "std = np.std(X_train, axis=0)\n",
        "\n",
        "std[std == 0] = 1.0\n",
        "\n",
        "# normalize both training and testing datasets\n",
        "X_train = (X_train - mean) / std\n",
        "X_test = (X_test - mean) / std"
      ]
    },
    {
      "cell_type": "markdown",
      "metadata": {
        "id": "p8aGg4aS6am2"
      },
      "source": [
        "# First part: working with Numpy\n",
        "\n",
        "Look at this [cheatsheet](https://s3.amazonaws.com/assets.datacamp.com/blog_assets/Numpy_Python_Cheat_Sheet.pdf) for some basic information on how to use numpy.\n",
        "\n",
        "### Defining the model\n",
        "\n",
        "We will here create a simple, linear classification model. We will take each pixel in the image as an input feature (making the size of the input to be $784$) and transform these features with a weight matrix $\\mathbf{W}$ and a bias vector $\\mathbf{b}$. Since there is $10$ possible classes, we want to obtain $10$ scores. Then,\n",
        "$$ \\mathbf{W} \\in \\mathbb{R}^{784 \\times 10} $$\n",
        "$$ \\mathbf{b} \\in \\mathbb{R}^{10} $$\n",
        "\n",
        "and our scores are obtained with:\n",
        "$$ \\mathbf{z} = \\mathbf{W}^{T} \\mathbf{x} +  \\mathbf{b} $$\n",
        "\n",
        "where $\\mathbf{x} \\in \\mathbb{R}^{784}$ is the input vector representing an image.\n",
        "We note $\\mathbf{y} \\in \\mathbb{R}^{10}$ as the target one_hot vector.\n",
        "\n",
        "Here, you fist need to initialize $\\mathbf{W}$ and $\\mathbf{b}$ using ```np.random.normal``` and ```np.zeros```, then compute $\\mathbf{z}$.\n",
        "<div class='alert alert-block alert-info'>\n",
        "            Code:</div>"
      ]
    },
    {
      "cell_type": "code",
      "execution_count": 78,
      "metadata": {
        "id": "04yCT8Tl6am4"
      },
      "outputs": [],
      "source": [
        "# To avoid implementing a complicated gradient back-propagation,\n",
        "# we will try a very simple architecture with one layer\n",
        "def initLayer(n_input,n_output):\n",
        "    \"\"\"\n",
        "    Initialize the weights, return the number of parameters\n",
        "    Inputs: n_input: the number of input units - int\n",
        "          : n_output: the number of output units - int\n",
        "    Outputs: W: a matrix of weights for the layer - numpy ndarray\n",
        "           : b: a vector bias for the layer - numpy ndarray\n",
        "           : nb_params: the number of parameters  - int\n",
        "    \"\"\"\n",
        "\n",
        "\n",
        "    # Create W at the right size with a normal distribution\n",
        "    W = np.random.normal(size=(n_input, n_output))\n",
        "    # Create b at the right size, with zeros\n",
        "    b = np.zeros(n_output)\n",
        "    nb_params = n_output * (n_input + 1)\n",
        "    return W, b, nb_params"
      ]
    },
    {
      "cell_type": "code",
      "execution_count": 79,
      "metadata": {
        "id": "xM1gqfuD6am5"
      },
      "outputs": [],
      "source": [
        "n_training = train_images.shape[0]\n",
        "n_feature = train_images.shape[1] * train_images.shape[2]\n",
        "n_labels = 10\n",
        "W, b, nb_params = initLayer(n_feature, n_labels)"
      ]
    },
    {
      "cell_type": "markdown",
      "metadata": {
        "id": "-UAaRbtN6am6"
      },
      "source": [
        "<div class='alert alert-block alert-info'>\n",
        "            Code:</div>"
      ]
    },
    {
      "cell_type": "code",
      "execution_count": 80,
      "metadata": {
        "id": "idOjMLd96am7"
      },
      "outputs": [],
      "source": [
        "def forward(W, b, X):\n",
        "    \"\"\"\n",
        "    Perform the forward propagation\n",
        "    Inputs: W: the weights - numpy ndarray\n",
        "          : b: the bias - numpy ndarray\n",
        "          : X: the batch - numpy ndarray\n",
        "    Outputs: z: outputs - numpy ndarray\n",
        "    \"\"\"\n",
        "\n",
        "    z = X @ W + b\n",
        "    return z"
      ]
    },
    {
      "cell_type": "markdown",
      "metadata": {
        "id": "IDbw_H4H6am7"
      },
      "source": [
        "### Computing the output\n",
        "\n",
        "To obtain classification probabilities, we use the softmax function:\n",
        "$$ \\mathbf{o} = softmax(\\mathbf{z}) \\text{         with          } o_i = \\frac{\\exp(z_i)}{\\sum_{j=0}^{9} \\exp(z_j)} $$\n",
        "\n",
        "The usual difficulty with the softmax function is the possibility of overflow when the scores $z_i$ are already large. Since a softmax is not affected by a shift affecting the whole vector $\\mathbf{z}$:\n",
        "$$ \\frac{\\exp(z_i - c)}{\\sum_{j=0}^{9} \\exp(z_j - c)} =  \\frac{\\exp(c) \\exp(z_i)}{\\exp(c) \\sum_{j=0}^{9} \\exp(z_j)} = \\frac{\\exp(z_i)}{\\sum_{j=0}^{9} \\exp(z_j)}$$\n",
        "what trick can we use to ensure we will not encounter any overflow ?\n",
        "<div class='alert alert-block alert-info'>\n",
        "            Code:</div>"
      ]
    },
    {
      "cell_type": "markdown",
      "metadata": {
        "id": "79SMqtsZfa2k"
      },
      "source": [
        "\n",
        "To prevent overflow when computing the softmax function, we can use a simple trick by subtracting the maximum value from each element of the input vector\n",
        "z before computing the softmax. This ensures numerical stability without affecting the result of the softmax function. The trick is based on the fact that subtracting a constant from each element of z does not change the output of the softmax function."
      ]
    },
    {
      "cell_type": "code",
      "execution_count": 81,
      "metadata": {
        "id": "Wmdi0DKT6am8"
      },
      "outputs": [],
      "source": [
        "def softmax(z):\n",
        "    \"\"\"\n",
        "    Perform the softmax transformation to the pre-activation values\n",
        "    Inputs: z: the pre-activation values - numpy ndarray\n",
        "    Outputs: out: the activation values - numpy ndarray\n",
        "    \"\"\"\n",
        "    if len(z.shape) > 1:\n",
        "      z = z - z.max(axis=1, keepdims=True)\n",
        "      out = np.exp(z) / np.exp(z).sum()\n",
        "      return out\n",
        "    z_shifted = z - np.max(z)\n",
        "    out = np.exp(z_shifted) / np.sum(np.exp(z_shifted))\n",
        "    return out"
      ]
    },
    {
      "cell_type": "markdown",
      "metadata": {
        "id": "UOisvNaV6am9"
      },
      "source": [
        "### Making updates\n",
        "\n",
        "We define a learning rate $\\eta$. The goal is to be able to apply updates:\n",
        "$$ \\mathbf{W}^{t+1} = \\mathbf{W}^{t} + \\nabla_{\\mathbf{W}} l_{MLE} $$\n",
        "\n",
        "In order to do this, we will compute this gradient (and the bias) in the function ```update```. In the next function ```updateParams```, we will actually apply the update with regularization.\n",
        "\n",
        "Reminder: the gradient $\\nabla_{\\mathbf{W}} l_{MLE}$ is the matrix containing the partial derivatives\n",
        "$$ \\left[\\frac{\\delta l_{MLE}}{\\delta W_{ij}}\\right]_{i=1..784, j=1..10} $$\n",
        "**Remark**: Careful, the usual way of implementing this in python has the dimensions of $\\mathbf{W}$ reversed compared to the notation of the slides.\n",
        "\n",
        "Coordinate by coordinate, we obtain the following update:\n",
        "$$ W_{ij}^{t+1} = W_{ij}^{t} + \\eta \\frac{\\delta l_{MLE}}{\\delta W_{ij}} $$\n",
        "\n",
        "Via the chain rule, we obtain, for an input feature $i \\in [0, 783]$ and a output class $j \\in [0, 9]$: $$\\frac{\\delta l_{MLE}}{\\delta W_{ij}} = \\frac{\\delta l_{MLE}}{\\delta z_{j}} \\frac{\\delta z_j}{\\delta W_{ij}}$$\n",
        "\n",
        "It's easy to compute that $\\frac{\\delta z_j}{\\delta W_{ij}} = x_i$\n",
        "\n",
        "We compute the softmax derivative, to obtain:\n",
        "$$ \\nabla_{\\mathbf{z}} l_{MLE} = \\mathbf{o} - \\mathbf{y} $$\n",
        "\n",
        "Hence, $\\frac{\\delta l_{MLE}}{\\delta z_{j}} = o_j - y_j$ and we obtain that $$\\frac{\\delta l_{MLE}}{\\delta W_{ij}} = (o_j - y_j) x_i$$\n",
        "\n",
        "This can easily be written as a scalar product, and a similar computation (even easier, actually) can be done for $\\mathbf{b}$. Noting $\\nabla_{\\mathbf{z}} l_{MLE} = \\mathbf{o} - \\mathbf{y}$ as ```grad``` in the following function, compute the gradients $\\nabla_{\\mathbf{W}} l_{MLE}$ and $\\nabla_{\\mathbf{b}} l_{MLE}$ in order to call the function ```updateParams```.\n",
        "\n",
        "Note: the regularizer and the weight_decay $\\lambda$ are used in ```updateParams```.\n",
        "\n",
        "<div class='alert alert-block alert-info'>\n",
        "            Code:</div>"
      ]
    },
    {
      "cell_type": "code",
      "execution_count": 82,
      "metadata": {
        "id": "umhLUQsY6am-"
      },
      "outputs": [],
      "source": [
        "def update(eta, W, b, grad, X, regularizer, weight_decay):\n",
        "    \"\"\"\n",
        "    Perform the update of the parameters\n",
        "    Inputs: eta: the step-size of the gradient descent - float\n",
        "          : W: the weights - ndarray\n",
        "          : b: the bias -  ndarray\n",
        "          : grad: the gradient of the activations w.r.t. to the loss -  list of ndarray\n",
        "          : X: the data -  ndarray\n",
        "          : regularizer: 'L2' or None - the regularizer to be used in updateParams\n",
        "          : weight_decay: the weight decay to be used in updateParams - float\n",
        "    Outputs: W: the weights updated -  ndarray\n",
        "           : b: the bias updated -  ndarray\n",
        "    \"\"\"\n",
        "    grad_w = np.outer(grad, X.T)\n",
        "    grad_b = grad\n",
        "\n",
        "    W = updateParams(W, grad_w, eta, regularizer, weight_decay)\n",
        "    b = updateParams(b, grad_b, eta, regularizer, weight_decay)\n",
        "    return W, b"
      ]
    },
    {
      "cell_type": "markdown",
      "metadata": {
        "id": "HFpCHOnU6am_"
      },
      "source": [
        "The update rule is affected by regularization. We implement two cases: No regularization, or L2 regularization. Use the two possible update rules to implement the following function: <div class='alert alert-block alert-info'>\n",
        "            Code:</div>"
      ]
    },
    {
      "cell_type": "code",
      "execution_count": 83,
      "metadata": {
        "id": "l5y12c8W6anA"
      },
      "outputs": [],
      "source": [
        "def updateParams(param, grad_param, eta, regularizer=None, weight_decay=0.):\n",
        "    \"\"\"\n",
        "    Perform the update of the parameters\n",
        "    Inputs: param: the network parameters - ndarray\n",
        "          : grad_param: the updates of the parameters - ndarray\n",
        "          : eta: the step-size of the gradient descent - float\n",
        "          : weight_decay: the weight-decay - float\n",
        "    Outputs: the parameters updated - ndarray\n",
        "    \"\"\"\n",
        "    if regularizer==None:\n",
        "        grad = param - eta * grad_param.T\n",
        "        return grad\n",
        "    elif regularizer=='L2':\n",
        "        grad = (1 - 2 * weight_decay) * param - eta * grad_param.T\n",
        "        return grad\n",
        "    else:\n",
        "        raise NotImplementedError"
      ]
    },
    {
      "cell_type": "markdown",
      "metadata": {
        "id": "vk31heuB6anB"
      },
      "source": [
        "### Computing the Accuracy\n",
        "\n",
        "Here, we simply use the model to predict the class (by taking the argmax of the output !) for every example in ```X```, and count the number of times the model is right, to output the accuracy.\n",
        "<div class='alert alert-block alert-info'>\n",
        "            Code:</div>"
      ]
    },
    {
      "cell_type": "code",
      "execution_count": 84,
      "metadata": {
        "id": "uKrk-qxT6anC"
      },
      "outputs": [],
      "source": [
        "def computeAcc(W, b, X, labels):\n",
        "    \"\"\"\n",
        "    Compute the loss value of the current network on the full batch\n",
        "    Inputs: act_func: the activation function - function\n",
        "          : W: the weights - list of ndarray\n",
        "          : B: the bias - list of ndarray\n",
        "          : X: the batch - ndarray\n",
        "          : labels: the labels corresponding to the batch\n",
        "    Outputs: loss: the negative log-likelihood - float\n",
        "           : accuracy: the ratio of examples that are well-classified - float\n",
        "    \"\"\"\n",
        "    # Forward propagation\n",
        "    z = forward(W, b, X)\n",
        "\n",
        "    # Compute the softmax and the prediction\n",
        "    out = softmax(z)\n",
        "    pred = out.argmax(axis=1)\n",
        "\n",
        "    # Compute the accuracy\n",
        "    accuracy = (pred == labels).sum() / len(labels)\n",
        "\n",
        "    return accuracy"
      ]
    },
    {
      "cell_type": "markdown",
      "metadata": {
        "id": "HvunYEwP6anD"
      },
      "source": [
        "### Preparing training\n",
        "\n",
        "The following hyperparameters are given. Next, we can assemble all the function previously defined to implement a training loop. We will train the classifier on **one epoch**, meaning that the model will see each training example once."
      ]
    },
    {
      "cell_type": "code",
      "execution_count": 85,
      "metadata": {
        "id": "gqtrfXr66anD"
      },
      "outputs": [],
      "source": [
        "# Optimization\n",
        "eta = 0.01\n",
        "regularizer = 'L2'\n",
        "weight_decay = 0.0001\n",
        "\n",
        "# Training\n",
        "log_interval = 5000"
      ]
    },
    {
      "cell_type": "markdown",
      "metadata": {
        "id": "Eg5qOs8H6anE"
      },
      "source": [
        "<div class='alert alert-block alert-info'>\n",
        "            Code:</div>"
      ]
    },
    {
      "cell_type": "code",
      "execution_count": 86,
      "metadata": {
        "colab": {
          "base_uri": "https://localhost:8080/"
        },
        "id": "eqHZQGM_6anF",
        "outputId": "d00243c7-933f-4c32-8d1d-051dff480575"
      },
      "outputs": [
        {
          "name": "stdout",
          "output_type": "stream",
          "text": [
            "0 0.09125 0.0836 0.01\n",
            "5000 0.8271833333333334 0.8334 0.01\n",
            "10000 0.8516 0.8566 0.01\n",
            "15000 0.8410166666666666 0.8433 0.01\n",
            "20000 0.8481666666666666 0.8551 0.01\n",
            "25000 0.8422 0.8481 0.01\n",
            "30000 0.85345 0.8554 0.01\n",
            "35000 0.8376166666666667 0.8404 0.01\n",
            "40000 0.8497666666666667 0.849 0.01\n",
            "45000 0.8547 0.8549 0.01\n",
            "50000 0.8500166666666666 0.8574 0.01\n",
            "55000 0.8289333333333333 0.8311 0.01\n",
            "Final result: 0.8289333333333333 0.8311 0.01\n"
          ]
        }
      ],
      "source": [
        "# Data structures for plotting\n",
        "g_train_acc=[]\n",
        "g_valid_acc=[]\n",
        "\n",
        "#######################\n",
        "### Learning process ##\n",
        "#######################\n",
        "for j in range(n_training):\n",
        "    # Getting the example\n",
        "    X, y = X_train[j], y_train[j]\n",
        "\n",
        "    # Forward propagation\n",
        "    z = forward(W, b, X)\n",
        "\n",
        "    # Compute the softmax\n",
        "    out = softmax(z)\n",
        "\n",
        "    # Compute the gradient at the top layer\n",
        "    derror = out - y # This is o - y\n",
        "\n",
        "    # Update the parameters\n",
        "    W, b = update(eta, W, b, derror, X, regularizer, weight_decay)\n",
        "\n",
        "    if j % log_interval == 0:\n",
        "        # Every log_interval examples, look at the training accuracy\n",
        "        train_accuracy = computeAcc(W, b, X_train, train_labels)\n",
        "\n",
        "        # And the testing accuracy\n",
        "        test_accuracy = computeAcc(W, b, X_test, test_labels)\n",
        "\n",
        "        g_train_acc.append(train_accuracy)\n",
        "        g_valid_acc.append(test_accuracy)\n",
        "        result_line = str(int(j)) + \" \" + str(train_accuracy) + \" \" + str(test_accuracy) + \" \" + str(eta)\n",
        "        print(result_line)\n",
        "\n",
        "g_train_acc.append(train_accuracy)\n",
        "g_valid_acc.append(test_accuracy)\n",
        "result_line = \"Final result:\" + \" \" + str(train_accuracy) + \" \" + str(test_accuracy) + \" \" + str(eta)\n",
        "print(result_line)"
      ]
    },
    {
      "cell_type": "code",
      "execution_count": 87,
      "metadata": {
        "colab": {
          "base_uri": "https://localhost:8080/",
          "height": 410
        },
        "id": "0GiZLxp9HMz2",
        "outputId": "38fbfa8c-2294-4356-9448-0d917692266a"
      },
      "outputs": [
        {
          "data": {
            "image/png": "[encoded data removed]",
            "text/plain": [
              "<Figure size 800x400 with 1 Axes>"
            ]
          },
          "metadata": {},
          "output_type": "display_data"
        }
      ],
      "source": [
        "x = np.arange(len(g_train_acc)) * 5000\n",
        "plt.figure(figsize=(8,4))\n",
        "plt.title('Model accuracy')\n",
        "plt.ylabel('Accuracy')\n",
        "plt.xlabel('Number of iterations')\n",
        "plt.plot(x, g_train_acc, label='Training accuracy')\n",
        "plt.plot(x, g_valid_acc, label='Test accuracy')\n",
        "plt.legend()\n",
        "plt.show()"
      ]
    },
    {
      "cell_type": "markdown",
      "metadata": {
        "id": "3A8VhkYd6anG"
      },
      "source": [
        "What can you say about the performance of this simple linear classifier ?\n",
        "<div class='alert alert-block alert-warning'>\n",
        "            Answer:</div>"
      ]
    },
    {
      "cell_type": "markdown",
      "metadata": {
        "id": "RUQks9ZDIkw5"
      },
      "source": [
        "\n",
        "The model achieved an accuracy of approximately 0.84, starting from an initial accuracy of about 0.1 due to its random initialization. It quickly approached its peak performance. Additionally, the similarity in results between the training and testing sets suggests that the model did not suffer from overfitting."
      ]
    },
    {
      "cell_type": "markdown",
      "metadata": {
        "id": "tGEuueqZ6anG"
      },
      "source": [
        "# Second part: Autoencoder with Keras"
      ]
    },
    {
      "cell_type": "markdown",
      "metadata": {
        "id": "ogXUpXzl6anH"
      },
      "source": [
        "## Autoencoder and PCA\n",
        "\n",
        "First, we will try to connect the representation produced by Principal Component Analysis with what is learnt by a simple, linear, autoencoder. We will use the ```scikit-learn``` implementation of the ```PCA``` to obtain the two first components (hint: use the attribute ```.components_```), and visualize them:\n",
        "<div class='alert alert-block alert-info'>\n",
        "            Code:</div>"
      ]
    },
    {
      "cell_type": "code",
      "execution_count": 88,
      "metadata": {
        "colab": {
          "base_uri": "https://localhost:8080/",
          "height": 324
        },
        "id": "nKCIEDOd6anI",
        "outputId": "7d8ac588-842d-4265-a4d4-59eb2843db38"
      },
      "outputs": [
        {
          "data": {
            "text/plain": [
              "Text(0.5, 0, 'Second Principal Component')"
            ]
          },
          "execution_count": 88,
          "metadata": {},
          "output_type": "execute_result"
        },
        {
          "data": {
            "image/png": "[encoded data removed]",
            "text/plain": [
              "<Figure size 640x480 with 2 Axes>"
            ]
          },
          "metadata": {},
          "output_type": "display_data"
        }
      ],
      "source": [
        "from sklearn.decomposition import PCA\n",
        "\n",
        "# Let's find the first 2 PCA components\n",
        "num_components = 2\n",
        "pca = PCA(n_components=num_components).fit(X_train)\n",
        "\n",
        "# Reshape so they resemble images and we can print them\n",
        "eigen_mnist = pca.components_.reshape(2, img_rows, img_cols)\n",
        "\n",
        "# Show the reshaped principal components\n",
        "f, ax = plt.subplots(1,2)\n",
        "ax[0].imshow(eigen_mnist[0], cmap='gray')\n",
        "ax[0].set_xlabel('First Principal Component')\n",
        "ax[1].imshow(eigen_mnist[1], cmap='gray')\n",
        "ax[1].set_xlabel('Second Principal Component')"
      ]
    },
    {
      "cell_type": "code",
      "execution_count": 89,
      "metadata": {
        "colab": {
          "base_uri": "https://localhost:8080/"
        },
        "id": "20mbNRUy6anI",
        "outputId": "9a59bf50-2130-41be-c611-6431d889efe0"
      },
      "outputs": [
        {
          "data": {
            "text/plain": [
              "array([40.48892 , 29.241385], dtype=float32)"
            ]
          },
          "execution_count": 89,
          "metadata": {},
          "output_type": "execute_result"
        }
      ],
      "source": [
        "# Print the variance explained by those components\n",
        "pca.explained_variance_"
      ]
    },
    {
      "cell_type": "markdown",
      "metadata": {
        "id": "b5JPQo1G6anJ"
      },
      "source": [
        "Comment on the visualization in relation to the variance explained by only keeping the two principal components:\n",
        "<div class='alert alert-block alert-warning'>\n",
        "            Answer:</div>"
      ]
    },
    {
      "cell_type": "markdown",
      "metadata": {
        "id": "EF6h90nAlQ1w"
      },
      "source": [
        "The visulaization is not clear.\n",
        "\n",
        "The visualization of the first two principal components provides a graphical representation of the most prominent patterns in the data, but it may not fully capture all the variability present in the dataset. The first two principal components explain only around 69.73% of the total variance, leaving approximately 30.27% of the variance unaccounted for.\n",
        "\n",
        "Additional principal components or other techniques may be needed to capture more of the dataset's variance and provide a clearer understanding of its structure."
      ]
    },
    {
      "cell_type": "markdown",
      "metadata": {
        "id": "I24n2xnK6anK"
      },
      "source": [
        "### Implementing the Autoencoder with Keras"
      ]
    },
    {
      "cell_type": "code",
      "execution_count": 90,
      "metadata": {
        "id": "KtFsbXSM6anK"
      },
      "outputs": [],
      "source": [
        "from tensorflow.keras.models import Model\n",
        "from tensorflow.keras.layers import Input, Dense\n",
        "from tensorflow.keras.optimizers import SGD"
      ]
    },
    {
      "cell_type": "markdown",
      "metadata": {
        "id": "xKusxaTe6anL"
      },
      "source": [
        "Now, we will use Keras to implement the autoencoder. You can take a look at this [cheatsheet](https://s3.amazonaws.com/assets.datacamp.com/blog_assets/Keras_Cheat_Sheet_Python.pdf) for some basic commands to use keras.\n",
        "\n",
        "In this first case, we implement a **simple linear autoencoder**. Build it in order to have the same capacity as the PCA decomposition (2 hidden dimensions !) we made just above.\n",
        "<div class='alert alert-block alert-info'>\n",
        "            Code:</div>"
      ]
    },
    {
      "cell_type": "code",
      "execution_count": 91,
      "metadata": {
        "colab": {
          "base_uri": "https://localhost:8080/"
        },
        "id": "rxc1ULfz6anM",
        "outputId": "937a03aa-9bbf-4432-8977-16146e1a8905"
      },
      "outputs": [
        {
          "name": "stdout",
          "output_type": "stream",
          "text": [
            "Model: \"ae_model\"\n",
            "_________________________________________________________________\n",
            " Layer (type)                Output Shape              Param #   \n",
            "=================================================================\n",
            " input_9 (InputLayer)        [(None, 784)]             0         \n",
            "                                                                 \n",
            " dense_20 (Dense)            (None, 2)                 1570      \n",
            "                                                                 \n",
            " dense_21 (Dense)            (None, 784)               2352      \n",
            "                                                                 \n",
            "=================================================================\n",
            "Total params: 3922 (15.32 KB)\n",
            "Trainable params: 3922 (15.32 KB)\n",
            "Non-trainable params: 0 (0.00 Byte)\n",
            "_________________________________________________________________\n"
          ]
        }
      ],
      "source": [
        "# Input layer\n",
        "input_layer = Input(img_rows*img_cols)\n",
        "\n",
        "# Encoding layer\n",
        "# ReLU activation function introduces non-linearity, enabling to learn complex patterns in the data.\n",
        "latent_view = Dense(2, activation='relu')(input_layer)\n",
        "\n",
        "# Decoding layer\n",
        "output_layer = Dense(img_rows*img_cols)(latent_view)\n",
        "\n",
        "ae_model = Model(input_layer, output_layer, name='ae_model')\n",
        "ae_model.summary()"
      ]
    },
    {
      "cell_type": "markdown",
      "metadata": {
        "id": "oBj2PGXJ6anM"
      },
      "source": [
        "What loss shoud we use ? Choose the usual one and import it directly from Keras. You can use a simple ```SGD``` optimizer, and then compile the model; finally, train it to rebuild images from the original examples.\n",
        "<div class='alert alert-block alert-info'>\n",
        "            Code:</div>"
      ]
    },
    {
      "cell_type": "markdown",
      "metadata": {
        "id": "0x7_KVjBnmcH"
      },
      "source": [
        "For reconstructing images from the original examples in an autoencoder, a commonly used loss function is the mean squared error (MSE) loss. This loss function computes the mean squared difference between the input and output images, aiming to minimize the reconstruction error."
      ]
    },
    {
      "cell_type": "code",
      "execution_count": 92,
      "metadata": {
        "colab": {
          "base_uri": "https://localhost:8080/"
        },
        "id": "qSKfame76anN",
        "outputId": "d5db1f18-7535-4dbb-f965-060bf4a5f094"
      },
      "outputs": [
        {
          "name": "stdout",
          "output_type": "stream",
          "text": [
            "Epoch 1/10\n",
            "469/469 [==============================] - 3s 5ms/step - loss: 0.9186 - val_loss: 0.9192\n",
            "Epoch 2/10\n",
            "469/469 [==============================] - 2s 3ms/step - loss: 0.9175 - val_loss: 0.9184\n",
            "Epoch 3/10\n",
            "469/469 [==============================] - 2s 4ms/step - loss: 0.9168 - val_loss: 0.9179\n",
            "Epoch 4/10\n",
            "469/469 [==============================] - 2s 5ms/step - loss: 0.9163 - val_loss: 0.9175\n",
            "Epoch 5/10\n",
            "469/469 [==============================] - 3s 6ms/step - loss: 0.9159 - val_loss: 0.9172\n",
            "Epoch 6/10\n",
            "469/469 [==============================] - 2s 5ms/step - loss: 0.9156 - val_loss: 0.9169\n",
            "Epoch 7/10\n",
            "469/469 [==============================] - 2s 5ms/step - loss: 0.9153 - val_loss: 0.9167\n",
            "Epoch 8/10\n",
            "469/469 [==============================] - 2s 5ms/step - loss: 0.9151 - val_loss: 0.9164\n",
            "Epoch 9/10\n",
            "469/469 [==============================] - 2s 3ms/step - loss: 0.9148 - val_loss: 0.9162\n",
            "Epoch 10/10\n",
            "469/469 [==============================] - 2s 5ms/step - loss: 0.9146 - val_loss: 0.9160\n"
          ]
        }
      ],
      "source": [
        "from tensorflow.keras.losses import MeanSquaredError\n",
        "loss = MeanSquaredError()\n",
        "\n",
        "optimizer = SGD(learning_rate=0.01)\n",
        "ae_model.compile(optimizer=optimizer, loss=loss)\n",
        "\n",
        "batch_size = 128\n",
        "epochs = 10\n",
        "# No noise here - we want to train a simple auto-encoder and compare visually with PCA\n",
        "history = ae_model.fit(X_train,\n",
        "                       X_train,\n",
        "                       epochs=epochs,\n",
        "                       batch_size=batch_size,\n",
        "                       verbose=1,\n",
        "                       shuffle=True,\n",
        "                       validation_data=(X_test, X_test))"
      ]
    },
    {
      "cell_type": "markdown",
      "metadata": {
        "id": "6sWYrkAU6ane"
      },
      "source": [
        "Assuming that the name of your layer (obtained through the command ```model.summary()```) is ```'layer'```, here is the way to obtained the weights. Visualize the weights of the encoder and compare them to the two components obtained through the PCA."
      ]
    },
    {
      "cell_type": "code",
      "execution_count": 94,
      "metadata": {
        "id": "pF3z5gtB6anf"
      },
      "outputs": [],
      "source": [
        "weights, bias = ae_model.get_layer('dense_20').get_weights()"
      ]
    },
    {
      "cell_type": "markdown",
      "metadata": {
        "id": "1I7nE-I26ang"
      },
      "source": [
        "<div class='alert alert-block alert-info'>\n",
        "            Code:</div>"
      ]
    },
    {
      "cell_type": "code",
      "execution_count": 96,
      "metadata": {
        "colab": {
          "base_uri": "https://localhost:8080/",
          "height": 324
        },
        "id": "HxOjkRyS6anh",
        "outputId": "eb8ffd1d-2399-4765-d855-5a1cdb40f4d4"
      },
      "outputs": [
        {
          "data": {
            "text/plain": [
              "Text(0.5, 0, 'Second Dimension')"
            ]
          },
          "execution_count": 96,
          "metadata": {},
          "output_type": "execute_result"
        },
        {
          "data": {
            "image/png": "[encoded data removed]",
            "text/plain": [
              "<Figure size 640x480 with 2 Axes>"
            ]
          },
          "metadata": {},
          "output_type": "display_data"
        }
      ],
      "source": [
        "# Show the two dimensions of the encoder, in a similar manner to the principal components\n",
        "# (after reshaping them as images !)\n",
        "comp_nn = weights.reshape(2, img_rows, img_cols)\n",
        "\n",
        "# Show the reshaped principal components\n",
        "f, ax = plt.subplots(1,2)\n",
        "ax[0].imshow(comp_nn[0], cmap='gray')\n",
        "ax[0].set_xlabel('First Dimension')\n",
        "\n",
        "ax[1].imshow(comp_nn[1], cmap='gray')\n",
        "ax[1].set_xlabel('Second Dimension')"
      ]
    },
    {
      "cell_type": "markdown",
      "metadata": {
        "id": "u-iQfZsX6ani"
      },
      "source": [
        "Now, visualize the images rebuilt by the network !\n",
        "<div class='alert alert-block alert-info'>\n",
        "            Code:</div>"
      ]
    },
    {
      "cell_type": "code",
      "execution_count": 98,
      "metadata": {
        "colab": {
          "base_uri": "https://localhost:8080/",
          "height": 300
        },
        "id": "E2_q-lhm6ani",
        "outputId": "e034d0ff-bdb8-4d1d-fabc-0f3c6f26ffdc"
      },
      "outputs": [
        {
          "name": "stdout",
          "output_type": "stream",
          "text": [
            "313/313 [==============================] - 2s 5ms/step\n"
          ]
        },
        {
          "data": {
            "image/png": "[encoded data removed]",
            "text/plain": [
              "<Figure size 640x480 with 5 Axes>"
            ]
          },
          "metadata": {},
          "output_type": "display_data"
        },
        {
          "data": {
            "image/png": "[encoded data removed]",
            "text/plain": [
              "<Figure size 640x480 with 5 Axes>"
            ]
          },
          "metadata": {},
          "output_type": "display_data"
        }
      ],
      "source": [
        "# Select a few images at random: look from n\n",
        "n = np.random.randint(0,len(test_images)-5)\n",
        "\n",
        "# Plot a few images from n\n",
        "f, ax = plt.subplots(1,5)\n",
        "for i,a in enumerate(range(n,n+5)):\n",
        "    ax[i].imshow(X_test[a].reshape(img_rows, img_cols), cmap = 'gray')\n",
        "\n",
        "# Get the prediction from the model\n",
        "X_pred = ae_model.predict(X_test)\n",
        "\n",
        "# ... and plot them\n",
        "f, ax = plt.subplots(1,5)\n",
        "for i,a in enumerate(range(n,n+5)):\n",
        "    ax[i].imshow(X_pred[a].reshape(img_rows, img_cols), cmap = 'gray')"
      ]
    },
    {
      "cell_type": "markdown",
      "metadata": {
        "id": "8vF3zp_H6anj"
      },
      "source": [
        "Do the same ( = build a new model) with a latent dimension that is largely higher than 2. Compare the visualizations and the images that are rebuilt.\n",
        "<div class='alert alert-block alert-info'>\n",
        "            Code:</div>"
      ]
    },
    {
      "cell_type": "markdown",
      "metadata": {
        "id": "Z2jUIEy4saUr"
      },
      "source": [
        "As expected the visualization becomes better when we have used dimensions more than two.\n",
        "Using higher-dimensional latent spaces in autoencoders improves representation by capturing richer, more nuanced features, avoiding information loss, and modeling non-linear relationships, leading to better data reconstruction and visualization."
      ]
    },
    {
      "cell_type": "code",
      "execution_count": 100,
      "metadata": {
        "colab": {
          "base_uri": "https://localhost:8080/"
        },
        "id": "deDBt51-lc0J",
        "outputId": "21583667-8880-4be7-a384-9b22eb2ca3db"
      },
      "outputs": [
        {
          "name": "stdout",
          "output_type": "stream",
          "text": [
            "Model: \"ae_model\"\n",
            "_________________________________________________________________\n",
            " Layer (type)                Output Shape              Param #   \n",
            "=================================================================\n",
            " input_layer (InputLayer)    [(None, 784)]             0         \n",
            "                                                                 \n",
            " latent_view (Dense)         (None, 256)               200960    \n",
            "                                                                 \n",
            " output_layer (Dense)        (None, 784)               201488    \n",
            "                                                                 \n",
            "=================================================================\n",
            "Total params: 402448 (1.54 MB)\n",
            "Trainable params: 402448 (1.54 MB)\n",
            "Non-trainable params: 0 (0.00 Byte)\n",
            "_________________________________________________________________\n"
          ]
        }
      ],
      "source": [
        "# Input layer\n",
        "input_layer = Input(shape=(784,), name='input_layer')\n",
        "\n",
        "# Encoding layer\n",
        "latent_view = Dense(256, activation='linear', name='latent_view')(input_layer)\n",
        "\n",
        "# Decoding layer\n",
        "output_layer = Dense(784, activation='sigmoid', name='output_layer')(latent_view)\n",
        "\n",
        "ae_model = Model(input_layer, output_layer, name='ae_model')\n",
        "ae_model.summary()"
      ]
    },
    {
      "cell_type": "code",
      "execution_count": 107,
      "metadata": {
        "colab": {
          "base_uri": "https://localhost:8080/"
        },
        "id": "qgLPoS4um26q",
        "outputId": "980d6713-b0d2-4cb1-9729-35c3c6fe7a8a"
      },
      "outputs": [
        {
          "name": "stderr",
          "output_type": "stream",
          "text": [
            "WARNING:absl:`lr` is deprecated in Keras optimizer, please use `learning_rate` or use the legacy optimizer, e.g.,tf.keras.optimizers.legacy.SGD.\n"
          ]
        },
        {
          "name": "stdout",
          "output_type": "stream",
          "text": [
            "Epoch 1/10\n",
            "469/469 [==============================] - 6s 13ms/step - loss: 0.9960 - val_loss: 0.9942\n",
            "Epoch 2/10\n",
            "469/469 [==============================] - 5s 10ms/step - loss: 0.9922 - val_loss: 0.9904\n",
            "Epoch 3/10\n",
            "469/469 [==============================] - 5s 12ms/step - loss: 0.9884 - val_loss: 0.9866\n",
            "Epoch 4/10\n",
            "469/469 [==============================] - 4s 9ms/step - loss: 0.9847 - val_loss: 0.9829\n",
            "Epoch 5/10\n",
            "469/469 [==============================] - 4s 9ms/step - loss: 0.9810 - val_loss: 0.9793\n",
            "Epoch 6/10\n",
            "469/469 [==============================] - 6s 12ms/step - loss: 0.9774 - val_loss: 0.9757\n",
            "Epoch 7/10\n",
            "469/469 [==============================] - 4s 9ms/step - loss: 0.9739 - val_loss: 0.9721\n",
            "Epoch 8/10\n",
            "469/469 [==============================] - 5s 10ms/step - loss: 0.9703 - val_loss: 0.9686\n",
            "Epoch 9/10\n",
            "469/469 [==============================] - 5s 11ms/step - loss: 0.9668 - val_loss: 0.9651\n",
            "Epoch 10/10\n",
            "469/469 [==============================] - 4s 9ms/step - loss: 0.9634 - val_loss: 0.9616\n"
          ]
        }
      ],
      "source": [
        "from tensorflow.keras.losses import MSE\n",
        "\n",
        "loss = MSE\n",
        "\n",
        "optimizer = SGD(lr=0.01)\n",
        "ae_model.compile(optimizer=optimizer, loss=loss)\n",
        "\n",
        "batch_size = 128\n",
        "epochs = 10\n",
        "# No noise here - we want to train a simple auto-encoder and compare visually with PCA\n",
        "history = ae_model.fit(X_train,\n",
        "                       X_train,\n",
        "                       epochs=epochs,\n",
        "                       batch_size=batch_size,\n",
        "                       verbose=1,\n",
        "                       shuffle=True,\n",
        "                       validation_data=(X_test, X_test))"
      ]
    },
    {
      "cell_type": "code",
      "execution_count": 108,
      "metadata": {
        "colab": {
          "base_uri": "https://localhost:8080/",
          "height": 338
        },
        "id": "2tkAh9dfm59T",
        "outputId": "bb5af59e-7cff-45f6-c09a-1b6eac310c3f"
      },
      "outputs": [
        {
          "name": "stderr",
          "output_type": "stream",
          "text": [
            "WARNING:tensorflow:5 out of the last 943 calls to <function Model.make_predict_function.<locals>.predict_function at 0x788831798700> triggered tf.function retracing. Tracing is expensive and the excessive number of tracings could be due to (1) creating @tf.function repeatedly in a loop, (2) passing tensors with different shapes, (3) passing Python objects instead of tensors. For (1), please define your @tf.function outside of the loop. For (2), @tf.function has reduce_retracing=True option that can avoid unnecessary retracing. For (3), please refer to https://www.tensorflow.org/guide/function#controlling_retracing and https://www.tensorflow.org/api_docs/python/tf/function for  more details.\n"
          ]
        },
        {
          "name": "stdout",
          "output_type": "stream",
          "text": [
            "1/1 [==============================] - 0s 58ms/step\n"
          ]
        },
        {
          "data": {
            "image/png": "[encoded data removed]",
            "text/plain": [
              "<Figure size 640x480 with 5 Axes>"
            ]
          },
          "metadata": {},
          "output_type": "display_data"
        },
        {
          "data": {
            "image/png": "[encoded data removed]",
            "text/plain": [
              "<Figure size 640x480 with 5 Axes>"
            ]
          },
          "metadata": {},
          "output_type": "display_data"
        }
      ],
      "source": [
        "# Select a few images at random: look from n\n",
        "n = np.random.randint(0,len(test_images)-5)\n",
        "\n",
        "# Plot a few images from n\n",
        "f, ax = plt.subplots(1,5)\n",
        "for i,a in enumerate(range(n,n+5)):\n",
        "    ax[i].imshow(test_images[a].reshape(28,28), cmap='gray')\n",
        "\n",
        "# Get the prediction from the model\n",
        "pred = ae_model.predict(X_test[n:n+5])\n",
        "\n",
        "# ... and plot them\n",
        "f, ax = plt.subplots(1,5)\n",
        "for i,a in enumerate(range(n,n+5)):\n",
        "    ax[i].imshow(pred[i].reshape(28,28))"
      ]
    },
    {
      "cell_type": "markdown",
      "metadata": {
        "id": "Kg4_B-8O6ank"
      },
      "source": [
        "### Bonus: De-noising Autoencoder\n",
        "\n",
        "Now, we can implement a **de-noising autoencoder**. The following function will transform an array of images by adding it random noise. Create a new autoencoder model, this time with **more layers** and **non-linear activations** (like the ReLU) and train it to rebuild the de-noised images. Display some testing images, with noise, and re-built."
      ]
    },
    {
      "cell_type": "code",
      "execution_count": 109,
      "metadata": {
        "id": "R6i3NPm56ank"
      },
      "outputs": [],
      "source": [
        "def noise(array):\n",
        "    \"\"\"\n",
        "    Adds random noise to each image in the supplied array.\n",
        "    \"\"\"\n",
        "    noise_factor = 0.4\n",
        "    noisy_array = array + noise_factor * np.random.normal(\n",
        "        loc=0.0, scale=1.0, size=array.shape\n",
        "    )\n",
        "    return noisy_array"
      ]
    },
    {
      "cell_type": "code",
      "execution_count": 110,
      "metadata": {
        "id": "HOhIrJP36anl"
      },
      "outputs": [],
      "source": [
        "# Create a copy of the data with added noise\n",
        "noisy_train_images = noise(train_images)\n",
        "noisy_test_images = noise(test_images)"
      ]
    },
    {
      "cell_type": "markdown",
      "metadata": {
        "id": "09OPmC7S6anl"
      },
      "source": [
        "<div class='alert alert-block alert-info'>\n",
        "            Code:</div>"
      ]
    },
    {
      "cell_type": "code",
      "execution_count": 111,
      "metadata": {
        "colab": {
          "base_uri": "https://localhost:8080/",
          "height": 1000
        },
        "id": "KL2zkf4Xk7ji",
        "outputId": "09165b10-a23b-4997-b37f-b42cb0e06d50"
      },
      "outputs": [
        {
          "name": "stdout",
          "output_type": "stream",
          "text": [
            "Model: \"ae_model\"\n",
            "_________________________________________________________________\n",
            " Layer (type)                Output Shape              Param #   \n",
            "=================================================================\n",
            " input_10 (InputLayer)       [(None, 784)]             0         \n",
            "                                                                 \n",
            " dense_22 (Dense)            (None, 50)                39250     \n",
            "                                                                 \n",
            " dense_23 (Dense)            (None, 10)                510       \n",
            "                                                                 \n",
            " dense_24 (Dense)            (None, 50)                550       \n",
            "                                                                 \n",
            " dense_25 (Dense)            (None, 784)               39984     \n",
            "                                                                 \n",
            "=================================================================\n",
            "Total params: 80294 (313.65 KB)\n",
            "Trainable params: 80294 (313.65 KB)\n",
            "Non-trainable params: 0 (0.00 Byte)\n",
            "_________________________________________________________________\n",
            "Epoch 1/10\n",
            "469/469 [==============================] - 5s 10ms/step - loss: 0.6466 - val_loss: 0.5980\n",
            "Epoch 2/10\n",
            "469/469 [==============================] - 3s 7ms/step - loss: 0.5878 - val_loss: 0.5806\n",
            "Epoch 3/10\n",
            "469/469 [==============================] - 3s 7ms/step - loss: 0.5702 - val_loss: 0.5852\n",
            "Epoch 4/10\n",
            "469/469 [==============================] - 3s 6ms/step - loss: 0.5803 - val_loss: 0.5857\n",
            "Epoch 5/10\n",
            "469/469 [==============================] - 4s 8ms/step - loss: 0.5776 - val_loss: 0.5993\n",
            "Epoch 6/10\n",
            "469/469 [==============================] - 3s 7ms/step - loss: 0.5690 - val_loss: 0.5728\n",
            "Epoch 7/10\n",
            "469/469 [==============================] - 3s 7ms/step - loss: 0.5717 - val_loss: 0.5890\n",
            "Epoch 8/10\n",
            "469/469 [==============================] - 4s 8ms/step - loss: 0.5682 - val_loss: 0.5834\n",
            "Epoch 9/10\n",
            "469/469 [==============================] - 4s 9ms/step - loss: 0.5679 - val_loss: 0.5766\n",
            "Epoch 10/10\n",
            "469/469 [==============================] - 4s 8ms/step - loss: 0.5616 - val_loss: 0.5728\n"
          ]
        },
        {
          "name": "stderr",
          "output_type": "stream",
          "text": [
            "WARNING:tensorflow:6 out of the last 944 calls to <function Model.make_predict_function.<locals>.predict_function at 0x7888318a0ca0> triggered tf.function retracing. Tracing is expensive and the excessive number of tracings could be due to (1) creating @tf.function repeatedly in a loop, (2) passing tensors with different shapes, (3) passing Python objects instead of tensors. For (1), please define your @tf.function outside of the loop. For (2), @tf.function has reduce_retracing=True option that can avoid unnecessary retracing. For (3), please refer to https://www.tensorflow.org/guide/function#controlling_retracing and https://www.tensorflow.org/api_docs/python/tf/function for  more details.\n"
          ]
        },
        {
          "name": "stdout",
          "output_type": "stream",
          "text": [
            "313/313 [==============================] - 1s 3ms/step\n"
          ]
        },
        {
          "data": {
            "image/png": "[encoded data removed]",
            "text/plain": [
              "<Figure size 640x480 with 5 Axes>"
            ]
          },
          "metadata": {},
          "output_type": "display_data"
        },
        {
          "data": {
            "image/png": "[encoded data removed]",
            "text/plain": [
              "<Figure size 640x480 with 5 Axes>"
            ]
          },
          "metadata": {},
          "output_type": "display_data"
        },
        {
          "data": {
            "image/png": "[encoded data removed]",
            "text/plain": [
              "<Figure size 640x480 with 5 Axes>"
            ]
          },
          "metadata": {},
          "output_type": "display_data"
        },
        {
          "data": {
            "image/png": "[encoded data removed]",
            "text/plain": [
              "<Figure size 640x480 with 5 Axes>"
            ]
          },
          "metadata": {},
          "output_type": "display_data"
        }
      ],
      "source": [
        "# Visualize some of the images with noise against the originals\n",
        "from tensorflow.keras import optimizers\n",
        "\n",
        "n = np.random.randint(0,len(test_images)-5)\n",
        "f, ax = plt.subplots(1,5)\n",
        "for i,a in enumerate(range(n,n+5)):\n",
        "  ax[i].imshow(X_train[a].reshape(img_rows, img_cols))\n",
        "\n",
        "f, ax = plt.subplots(1,5)\n",
        "for i,a in enumerate(range(n,n+5)):\n",
        "  ax[i].imshow(noisy_train_images[a].reshape(img_rows, img_cols), cmap = 'gray')\n",
        "\n",
        "# Build a new model with more layers and Relu activations\n",
        "\n",
        "input_layer = Input(img_rows*img_cols)\n",
        "\n",
        "latent_view_1 = Dense(50, activation='relu')(input_layer)\n",
        "latent_view_2 = Dense(10, activation='relu')(latent_view_1)\n",
        "latent_view_3 = Dense(50, activation='relu')(latent_view_2)\n",
        "\n",
        "output_layer = Dense(img_rows*img_cols)(latent_view_3)\n",
        "\n",
        "ae_model = Model(input_layer, output_layer, name='ae_model')\n",
        "ae_model.summary()\n",
        "\n",
        "# Compile it but here, use noised data as inputs !\n",
        "\n",
        "loss = MeanSquaredError()\n",
        "\n",
        "optimizer = optimizers.Adam(learning_rate=0.01)\n",
        "ae_model.compile(optimizer=optimizer, loss=loss)\n",
        "\n",
        "batch_size = 128\n",
        "epochs = 10\n",
        "# No noise here - we want to train a simple auto-encoder and compare visually with PCA\n",
        "history = ae_model.fit(X_train,\n",
        "                       X_train,\n",
        "                       epochs=epochs,\n",
        "                       batch_size=batch_size,\n",
        "                       verbose=1,\n",
        "                       shuffle=True,\n",
        "                       validation_data=(X_test, X_test))\n",
        "\n",
        "# Visualize the images rebuilt by the model !\n",
        "\n",
        "# Select a few images at random: look from n\n",
        "n = np.random.randint(0,len(test_images)-5)\n",
        "\n",
        "# Plot a few images from n\n",
        "f, ax = plt.subplots(1,5)\n",
        "for i,a in enumerate(range(n,n+5)):\n",
        "  ax[i].imshow(X_test[a].reshape(img_rows, img_cols), cmap = 'gray')\n",
        "\n",
        "# Get the prediction from the model\n",
        "\n",
        "X_pred = ae_model.predict(X_test)\n",
        "\n",
        "# ... and plot them\n",
        "f, ax = plt.subplots(1,5)\n",
        "for i,a in enumerate(range(n,n+5)):\n",
        "  ax[i].imshow(X_pred[a].reshape(img_rows, img_cols), cmap = 'gray')"
      ]
    },
    {
      "cell_type": "markdown",
      "metadata": {
        "id": "qlvpuaVL6anm"
      },
      "source": [
        "Assuming that we normalize the images to be in the 0-1 range, what other loss function could we use ?\n",
        "<div class='alert alert-block alert-warning'>\n",
        "            Answer:</div>"
      ]
    },
    {
      "cell_type": "markdown",
      "metadata": {
        "id": "tTlxgaZVrxC3"
      },
      "source": [
        "When images are normalized to the 0-1 range, they are typically treated as probability distributions, where each pixel value represents the probability of observing a certain intensity level. In this context, Maximum Likelihood Estimation (MLE) becomes a natural choice for training autoencoders because it aims to maximize the likelihood of generating observed data under a given probabilistic model."
      ]
    }
  ],
  "metadata": {
    "accelerator": "GPU",
    "colab": {
      "provenance": []
    },
    "kernelspec": {
      "display_name": "Python 3 (ipykernel)",
      "language": "python",
      "name": "python3"
    },
    "language_info": {
      "codemirror_mode": {
        "name": "ipython",
        "version": 3
      },
      "file_extension": ".py",
      "mimetype": "text/x-python",
      "name": "python",
      "nbconvert_exporter": "python",
      "pygments_lexer": "ipython3",
      "version": "3.9.16"
    }
  },
  "nbformat": 4,
  "nbformat_minor": 0
}
